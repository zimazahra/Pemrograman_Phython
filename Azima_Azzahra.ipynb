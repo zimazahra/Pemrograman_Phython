{
  "nbformat": 4,
  "nbformat_minor": 0,
  "metadata": {
    "colab": {
      "name": "Azima Azzahra.ipynb",
      "provenance": [],
      "authorship_tag": "ABX9TyM3fLsT637ghwRaNkJOZa2A",
      "include_colab_link": true
    },
    "kernelspec": {
      "name": "python3",
      "display_name": "Python 3"
    }
  },
  "cells": [
    {
      "cell_type": "markdown",
      "metadata": {
        "id": "view-in-github",
        "colab_type": "text"
      },
      "source": [
        "<a href=\"https://colab.research.google.com/github/zimazahra/Pemrograman_Phython/blob/main/Azima_Azzahra.ipynb\" target=\"_parent\"><img src=\"https://colab.research.google.com/assets/colab-badge.svg\" alt=\"Open In Colab\"/></a>"
      ]
    },
    {
      "cell_type": "code",
      "metadata": {
        "id": "WC8EUoObU1vg"
      },
      "source": [
        "Azima Azzahra\r\n",
        "1101194376\r\n",
        "TT-43-G4"
      ],
      "execution_count": null,
      "outputs": []
    },
    {
      "cell_type": "code",
      "metadata": {
        "colab": {
          "base_uri": "https://localhost:8080/"
        },
        "id": "0InODgpmLf8w",
        "outputId": "5a288bbe-9a20-4277-f07f-75f624faa9d7"
      },
      "source": [
        "#program utama\r\n",
        "d = int(input(\"Masukkan jarak dalam kilometer adalh: \"))\r\n",
        "fc = int(input(\"Masukkan frekuensi 500 MHz-1500 MHz adalah: \"))\r\n",
        "area = input(\"Masukkan tipe area adalah: \")\r\n",
        "ht = int(input(\"Masukkan tinggi antena pemancar 20-600 meter adalah: \"))\r\n",
        "hr = int(input(\"Masukkan tinggi antena penerima 1-50 meter adalah: \"))"
      ],
      "execution_count": 1,
      "outputs": [
        {
          "output_type": "stream",
          "text": [
            "Masukkan jarak dalam kilometer adalh: 10\n",
            "Masukkan frekuensi 500 MHz-1500 MHz adalah: 1000\n",
            "Masukkan tipe area adalah: urban\n",
            "Masukkan tinggi antena pemancar 20-600 meter adalah: 100\n",
            "Masukkan tinggi antena penerima 1-50 meter adalah: 25\n"
          ],
          "name": "stdout"
        }
      ]
    },
    {
      "cell_type": "code",
      "metadata": {
        "id": "cArqS-NGmIQG"
      },
      "source": [
        "import numpy as np"
      ],
      "execution_count": 2,
      "outputs": []
    },
    {
      "cell_type": "code",
      "metadata": {
        "id": "2dROxd-4IC-k"
      },
      "source": [
        "NtL = lambda x: 10*np.log10(x)"
      ],
      "execution_count": 3,
      "outputs": []
    },
    {
      "cell_type": "code",
      "metadata": {
        "id": "_ucTblHWIbv0"
      },
      "source": [
        "LtN = lambda x: 10**(x/10)"
      ],
      "execution_count": 4,
      "outputs": []
    },
    {
      "cell_type": "code",
      "metadata": {
        "id": "_BOARhn-E8qz"
      },
      "source": [
        "def rumusc1 (z):\r\n",
        "  if z in range (400,1500):\r\n",
        "    return 69.55\r\n",
        "\r\n",
        "  elif z in range (1500,2000):\r\n",
        "    return 46.3"
      ],
      "execution_count": 5,
      "outputs": []
    },
    {
      "cell_type": "code",
      "metadata": {
        "id": "M9UJjMBIGJmd"
      },
      "source": [
        "def rumusc2 (z):\r\n",
        "  if z in range (400,1500):\r\n",
        "    return 26.16\r\n",
        "\r\n",
        "  elif z in range (1500,2000):\r\n",
        "    return 33.9"
      ],
      "execution_count": 6,
      "outputs": []
    },
    {
      "cell_type": "code",
      "metadata": {
        "id": "9ngMqZhrJ0ZI"
      },
      "source": [
        "def rumuscm (area,fc):\r\n",
        "  if area ==  \"urban\":\r\n",
        "    return 0\r\n",
        "  if area == \"suburban\":\r\n",
        "    return -2*(np.log10(fc/28)**2 - 5.4)\r\n",
        "  if area == \"open\":\r\n",
        "    return -4.78*(np.log10(fc))**2 + 18.33*np.log10(fc) - 40.94    "
      ],
      "execution_count": 7,
      "outputs": []
    },
    {
      "cell_type": "code",
      "metadata": {
        "id": "oTKdXvWEH6oj"
      },
      "source": [
        "def rumusahr(z):\r\n",
        "  return (1.1*np.log10(z)-0.7)*hr - (1.56*np.log10(z)-0.8)"
      ],
      "execution_count": 8,
      "outputs": []
    },
    {
      "cell_type": "code",
      "metadata": {
        "id": "Se8IiO67YL-u"
      },
      "source": [
        "c1 = rumusc1(fc)\r\n",
        "c2 = rumusc2(fc)\r\n",
        "cm = rumuscm(area,fc)\r\n",
        "ahr = rumusahr(fc)"
      ],
      "execution_count": 9,
      "outputs": []
    },
    {
      "cell_type": "code",
      "metadata": {
        "colab": {
          "base_uri": "https://localhost:8080/"
        },
        "id": "OYKfTd_3YNSM",
        "outputId": "4bdbf3b3-8969-4280-e3f3-59265eaf6f3d"
      },
      "source": [
        "print(c1)\r\n",
        "print(c2)\r\n",
        "print(cm)\r\n",
        "print(ahr)"
      ],
      "execution_count": 10,
      "outputs": [
        {
          "output_type": "stream",
          "text": [
            "69.55\n",
            "26.16\n",
            "0\n",
            "61.12000000000001\n"
          ],
          "name": "stdout"
        }
      ]
    },
    {
      "cell_type": "code",
      "metadata": {
        "id": "_RWlosFdLhlO",
        "colab": {
          "base_uri": "https://localhost:8080/"
        },
        "outputId": "f4c3c457-c2a3-4d00-b0af-fef2b67384b7"
      },
      "source": [
        "pldb = c1 + c2*np.log10(fc) - 13.83*np.log10(ht) - ahr + (44.9-6.55*np.log10(ht))*np.log10(d) + cm\n",
        "print(\"Pathloss adalah: \" , pldb , \" db\")"
      ],
      "execution_count": 11,
      "outputs": [
        {
          "output_type": "stream",
          "text": [
            "Pathloss adalah:  91.04999999999998  db\n"
          ],
          "name": "stdout"
        }
      ]
    }
  ]
}