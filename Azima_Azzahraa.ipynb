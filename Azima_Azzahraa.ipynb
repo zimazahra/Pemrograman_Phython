{
  "nbformat": 4,
  "nbformat_minor": 0,
  "metadata": {
    "colab": {
      "name": "Azima Azzahraa.ipynb",
      "provenance": [],
      "authorship_tag": "ABX9TyMX82wDjw3Hg56BPEo88NIu",
      "include_colab_link": true
    },
    "kernelspec": {
      "name": "python3",
      "display_name": "Python 3"
    }
  },
  "cells": [
    {
      "cell_type": "markdown",
      "metadata": {
        "id": "view-in-github",
        "colab_type": "text"
      },
      "source": [
        "<a href=\"https://colab.research.google.com/github/zimazahra/Pemrograman_Phython/blob/main/Azima_Azzahraa.ipynb\" target=\"_parent\"><img src=\"https://colab.research.google.com/assets/colab-badge.svg\" alt=\"Open In Colab\"/></a>"
      ]
    },
    {
      "cell_type": "code",
      "metadata": {
        "id": "s9W6DPR2mgF4"
      },
      "source": [
        "Azima Azzahra\r\n",
        "1101194376"
      ],
      "execution_count": null,
      "outputs": []
    },
    {
      "cell_type": "code",
      "metadata": {
        "id": "fB8AcMzHgql_",
        "colab": {
          "base_uri": "https://localhost:8080/"
        },
        "outputId": "00d51b1a-acf3-4ba5-95d7-1d340eb34c9b"
      },
      "source": [
        "#program utama\r\n",
        "d = int(input(\"Masukkan jarak dalam kilometer: \"))\r\n",
        "fc = int(input(\"Masukkan frekuensi 150 MHz-2000 MHz: \"))\r\n",
        "area = input(\"Masukkan tipe area: \")\r\n",
        "ht = int(input(\"Masukkan tinggi antena pemancar 30-200 meter: \"))\r\n",
        "hr = int(input(\"Masukkan tinggi antena penerima 1-30 meter: \"))"
      ],
      "execution_count": 1,
      "outputs": [
        {
          "output_type": "stream",
          "text": [
            "Masukkan jarak dalam kilometer: 100\n",
            "Masukkan frekuensi 150 MHz-2000 MHz: 1000\n",
            "Masukkan tipe area: urban\n",
            "Masukkan tinggi antena pemancar 30-200 meter: 100\n",
            "Masukkan tinggi antena penerima 1-30 meter: 10\n"
          ],
          "name": "stdout"
        }
      ]
    },
    {
      "cell_type": "code",
      "metadata": {
        "id": "rtMP-pt5hNh4"
      },
      "source": [
        "import numpy as np"
      ],
      "execution_count": 2,
      "outputs": []
    },
    {
      "cell_type": "code",
      "metadata": {
        "id": "X_F_6SZ3iAsA"
      },
      "source": [
        "NtL = lambda x: 10*np.log10(x)"
      ],
      "execution_count": 3,
      "outputs": []
    },
    {
      "cell_type": "code",
      "metadata": {
        "id": "KTXSWTzJiA-J"
      },
      "source": [
        "LtN = lambda x: 10**(x/10)"
      ],
      "execution_count": 4,
      "outputs": []
    },
    {
      "cell_type": "code",
      "metadata": {
        "id": "HLXv_6QXiBKF"
      },
      "source": [
        "def cesatu (frek):\r\n",
        "  if frek in range (400,1500):\r\n",
        "    return 69.55\r\n",
        "\r\n",
        "  elif frek in range (1500,2000):\r\n",
        "    return 46.3"
      ],
      "execution_count": 5,
      "outputs": []
    },
    {
      "cell_type": "code",
      "metadata": {
        "id": "ZnUMJYzpT8FL"
      },
      "source": [
        "def cedua (frek):\r\n",
        "  if frek in range (400,1500):\r\n",
        "    return 26.16\r\n",
        "\r\n",
        "  elif frek in range (1500,2000):\r\n",
        "    return 33.9"
      ],
      "execution_count": 6,
      "outputs": []
    },
    {
      "cell_type": "code",
      "metadata": {
        "id": "LJzhzygKT8Uq"
      },
      "source": [
        "def ceem (area,fc):\r\n",
        "  if area ==  \"urban\":\r\n",
        "    return 0\r\n",
        "  if area == \"suburban\":\r\n",
        "    return -2*(np.log10(fc/28)**2 - 5.4)\r\n",
        "  if area == \"open\":\r\n",
        "    return -4.78*(np.log10(fc))**2 + 18.33*np.log10(fc) - 40.94"
      ],
      "execution_count": 7,
      "outputs": []
    },
    {
      "cell_type": "code",
      "metadata": {
        "id": "2TrwxH8hiBV7"
      },
      "source": [
        "def ahaer (frek):\r\n",
        "  return (1.1*np.log10(frek)-0.7)*hr - (1.56*np.log10(frek)-0.8)"
      ],
      "execution_count": 8,
      "outputs": []
    },
    {
      "cell_type": "code",
      "metadata": {
        "id": "rMSLwwvgVOxq"
      },
      "source": [
        "c1 = cesatu(fc)\r\n",
        "c2 = cedua(fc)\r\n",
        "cm = ceem(area,fc)\r\n",
        "ahr = ahaer(fc)"
      ],
      "execution_count": 9,
      "outputs": []
    },
    {
      "cell_type": "code",
      "metadata": {
        "id": "Utk0cQwkVO_i",
        "colab": {
          "base_uri": "https://localhost:8080/"
        },
        "outputId": "99ce85ea-3d04-496a-f379-a6d3fc2c86e5"
      },
      "source": [
        "print(c1)\r\n",
        "print(c2)\r\n",
        "print(cm)\r\n",
        "print(ahr)"
      ],
      "execution_count": 10,
      "outputs": [
        {
          "output_type": "stream",
          "text": [
            "69.55\n",
            "26.16\n",
            "0\n",
            "22.120000000000008\n"
          ],
          "name": "stdout"
        }
      ]
    },
    {
      "cell_type": "code",
      "metadata": {
        "id": "o0YQ4OO3Vdji",
        "colab": {
          "base_uri": "https://localhost:8080/"
        },
        "outputId": "8316ffee-f0e3-4f82-b4f3-98b6e4503fcf"
      },
      "source": [
        "pldb = c1 + c2*np.log10(fc) - 13.83*np.log10(ht) - ahr + (44.9-6.55*np.log10(ht))*np.log10(d) + cm\r\n",
        "print(\"Pathloss adalah: \" , pldb , \" db\")"
      ],
      "execution_count": 11,
      "outputs": [
        {
          "output_type": "stream",
          "text": [
            "Pathloss adalah:  161.85  db\n"
          ],
          "name": "stdout"
        }
      ]
    }
  ]
}